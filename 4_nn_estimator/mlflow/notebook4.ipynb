{
 "cells": [
  {
   "cell_type": "code",
   "execution_count": 1,
   "metadata": {},
   "outputs": [],
   "source": [
    "import mlflow\n",
    "import mlflow.pytorch\n",
    "from datetime import datetime"
   ]
  },
  {
   "cell_type": "code",
   "execution_count": 2,
   "metadata": {},
   "outputs": [],
   "source": [
    "model_uri = \"runs:/bec56fbdca2d47f493485ffa1ee700e9/wrapped_lstm_model_with_scaler\"\n",
    "model = mlflow.pytorch.load_model(model_uri)\n"
   ]
  },
  {
   "cell_type": "code",
   "execution_count": 3,
   "metadata": {},
   "outputs": [],
   "source": [
    "target_date = \"2024-12-01\""
   ]
  },
  {
   "cell_type": "code",
   "execution_count": 4,
   "metadata": {},
   "outputs": [],
   "source": [
    "db_config = {\n",
    "    \"host\": \"localhost\",\n",
    "    \"port\": \"5434\",\n",
    "    \"dbname\": \"db\",\n",
    "    \"user\": \"user\",\n",
    "    \"password\": \"password\"\n",
    "}"
   ]
  },
  {
   "cell_type": "markdown",
   "metadata": {},
   "source": []
  },
  {
   "cell_type": "code",
   "execution_count": 11,
   "metadata": {},
   "outputs": [
    {
     "name": "stdout",
     "output_type": "stream",
     "text": [
      "[[ 7.58915750e-01]\n",
      " [ 3.50713014e-01]\n",
      " [-4.93691135e-01]\n",
      " [ 2.68292597e-01]\n",
      " [ 7.54412084e-01]\n",
      " [-5.11265365e-01]\n",
      " [ 4.19303227e+02]]\n",
      "[[ 3.50713014e-01]\n",
      " [-4.93691135e-01]\n",
      " [ 2.68292597e-01]\n",
      " [ 7.54412084e-01]\n",
      " [-5.11265365e-01]\n",
      " [ 4.19303227e+02]\n",
      " [ 4.18364183e+02]]\n",
      "[[-4.93691135e-01]\n",
      " [ 2.68292597e-01]\n",
      " [ 7.54412084e-01]\n",
      " [-5.11265365e-01]\n",
      " [ 4.19303227e+02]\n",
      " [ 4.18364183e+02]\n",
      " [ 4.17999685e+02]]\n",
      "[[ 2.68292597e-01]\n",
      " [ 7.54412084e-01]\n",
      " [-5.11265365e-01]\n",
      " [ 4.19303227e+02]\n",
      " [ 4.18364183e+02]\n",
      " [ 4.17999685e+02]\n",
      " [ 4.17765899e+02]]\n",
      "[[  0.75441208]\n",
      " [ -0.51126537]\n",
      " [419.30322709]\n",
      " [418.36418267]\n",
      " [417.99968508]\n",
      " [417.76589904]\n",
      " [418.1454479 ]]\n",
      "[[ -0.51126537]\n",
      " [419.30322709]\n",
      " [418.36418267]\n",
      " [417.99968508]\n",
      " [417.76589904]\n",
      " [418.1454479 ]\n",
      " [417.7275616 ]]\n",
      "[[419.30322709]\n",
      " [418.36418267]\n",
      " [417.99968508]\n",
      " [417.76589904]\n",
      " [418.1454479 ]\n",
      " [417.7275616 ]\n",
      " [416.58613551]]\n",
      "[[418.36418267]\n",
      " [417.99968508]\n",
      " [417.76589904]\n",
      " [418.1454479 ]\n",
      " [417.7275616 ]\n",
      " [416.58613551]\n",
      " [417.31839219]]\n",
      "[[417.99968508]\n",
      " [417.76589904]\n",
      " [418.1454479 ]\n",
      " [417.7275616 ]\n",
      " [416.58613551]\n",
      " [417.31839219]\n",
      " [417.31839219]]\n",
      "[[417.76589904]\n",
      " [418.1454479 ]\n",
      " [417.7275616 ]\n",
      " [416.58613551]\n",
      " [417.31839219]\n",
      " [417.31839219]\n",
      " [417.31839219]]\n"
     ]
    }
   ],
   "source": [
    "predictions = model.predict(target_date, db_config, ticker='MSFT',sequence_length=7)"
   ]
  },
  {
   "cell_type": "code",
   "execution_count": 12,
   "metadata": {},
   "outputs": [
    {
     "name": "stdout",
     "output_type": "stream",
     "text": [
      "         date  predicted_close\n",
      "0  2024-11-22       419.303227\n",
      "1  2024-11-23       418.364183\n",
      "2  2024-11-24       417.999685\n",
      "3  2024-11-25       417.765899\n",
      "4  2024-11-26       418.145448\n",
      "5  2024-11-27       417.727562\n",
      "6  2024-11-28       416.586136\n",
      "7  2024-11-29       417.318392\n",
      "8  2024-11-30       417.318392\n",
      "9  2024-12-01       417.318392\n"
     ]
    }
   ],
   "source": [
    "import pandas as pd\n",
    "predictions_df = pd.DataFrame(predictions)\n",
    "print(predictions_df)"
   ]
  },
  {
   "cell_type": "code",
   "execution_count": null,
   "metadata": {},
   "outputs": [],
   "source": []
  }
 ],
 "metadata": {
  "kernelspec": {
   "display_name": ".venv",
   "language": "python",
   "name": "python3"
  },
  "language_info": {
   "codemirror_mode": {
    "name": "ipython",
    "version": 3
   },
   "file_extension": ".py",
   "mimetype": "text/x-python",
   "name": "python",
   "nbconvert_exporter": "python",
   "pygments_lexer": "ipython3",
   "version": "3.11.9"
  }
 },
 "nbformat": 4,
 "nbformat_minor": 2
}
