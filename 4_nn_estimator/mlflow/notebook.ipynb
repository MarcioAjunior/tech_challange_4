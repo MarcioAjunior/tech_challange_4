{
 "cells": [
  {
   "cell_type": "markdown",
   "metadata": {},
   "source": [
    "### Estudo dos dados dos tickers "
   ]
  },
  {
   "cell_type": "markdown",
   "metadata": {},
   "source": [
    "Importando bibliotecas"
   ]
  },
  {
   "cell_type": "code",
   "execution_count": 2,
   "metadata": {},
   "outputs": [],
   "source": [
    "from database import Db\n",
    "import os\n",
    "from datetime import datetime\n",
    "from dotenv import load_dotenv\n",
    "import pandas as pd"
   ]
  },
  {
   "cell_type": "markdown",
   "metadata": {},
   "source": [
    "Carregando envs"
   ]
  },
  {
   "cell_type": "code",
   "execution_count": 3,
   "metadata": {},
   "outputs": [],
   "source": [
    "load_dotenv()\n",
    "\n",
    "os.getenv(\"FROM_DATE\")\n",
    "\n",
    "#UMA DATA QUE PODE SER USADA PARA SELECIONAR DADOS A PARTIR DE UMA DATA, QUANDO None PEGA TODOS OS DADOS\n",
    "FROM_DATE =  os.getenv(\"FROM_DATE\") if os.getenv(\"FROM_DATE\") != 'None' else None \n",
    "\n",
    "DB_CONFIG = {\n",
    "    \"host\": os.getenv(\"DB_HOST\"),\n",
    "    \"port\": os.getenv(\"DB_PORT\"),\n",
    "    \"dbname\": os.getenv(\"DB_NAME\"),\n",
    "    \"user\": os.getenv(\"DB_USER\"),\n",
    "    \"password\": os.getenv(\"DB_PASSWORD\"),\n",
    "}"
   ]
  },
  {
   "cell_type": "markdown",
   "metadata": {},
   "source": [
    "Carregando dados"
   ]
  },
  {
   "cell_type": "code",
   "execution_count": 5,
   "metadata": {},
   "outputs": [
    {
     "data": {
      "text/html": [
       "<div>\n",
       "<style scoped>\n",
       "    .dataframe tbody tr th:only-of-type {\n",
       "        vertical-align: middle;\n",
       "    }\n",
       "\n",
       "    .dataframe tbody tr th {\n",
       "        vertical-align: top;\n",
       "    }\n",
       "\n",
       "    .dataframe thead th {\n",
       "        text-align: right;\n",
       "    }\n",
       "</style>\n",
       "<table border=\"1\" class=\"dataframe\">\n",
       "  <thead>\n",
       "    <tr style=\"text-align: right;\">\n",
       "      <th></th>\n",
       "      <th>ticker</th>\n",
       "      <th>open</th>\n",
       "      <th>high</th>\n",
       "      <th>low</th>\n",
       "      <th>close</th>\n",
       "      <th>volume</th>\n",
       "      <th>date</th>\n",
       "    </tr>\n",
       "  </thead>\n",
       "  <tbody>\n",
       "    <tr>\n",
       "      <th>0</th>\n",
       "      <td>MSFT</td>\n",
       "      <td>422.579987</td>\n",
       "      <td>422.820007</td>\n",
       "      <td>416.709991</td>\n",
       "      <td>417.130005</td>\n",
       "      <td>16582300</td>\n",
       "      <td>2024-10-02 00:00:00+00:00</td>\n",
       "    </tr>\n",
       "    <tr>\n",
       "      <th>1</th>\n",
       "      <td>MSFT</td>\n",
       "      <td>417.630005</td>\n",
       "      <td>419.549988</td>\n",
       "      <td>414.290009</td>\n",
       "      <td>416.540009</td>\n",
       "      <td>13686400</td>\n",
       "      <td>2024-10-03 00:00:00+00:00</td>\n",
       "    </tr>\n",
       "    <tr>\n",
       "      <th>2</th>\n",
       "      <td>MSFT</td>\n",
       "      <td>418.239990</td>\n",
       "      <td>419.750000</td>\n",
       "      <td>414.970001</td>\n",
       "      <td>416.059998</td>\n",
       "      <td>19169700</td>\n",
       "      <td>2024-10-04 00:00:00+00:00</td>\n",
       "    </tr>\n",
       "    <tr>\n",
       "      <th>3</th>\n",
       "      <td>MSFT</td>\n",
       "      <td>416.000000</td>\n",
       "      <td>417.109985</td>\n",
       "      <td>409.000000</td>\n",
       "      <td>409.540009</td>\n",
       "      <td>20919800</td>\n",
       "      <td>2024-10-07 00:00:00+00:00</td>\n",
       "    </tr>\n",
       "    <tr>\n",
       "      <th>4</th>\n",
       "      <td>MSFT</td>\n",
       "      <td>410.899994</td>\n",
       "      <td>415.660004</td>\n",
       "      <td>408.170013</td>\n",
       "      <td>414.709991</td>\n",
       "      <td>19229300</td>\n",
       "      <td>2024-10-08 00:00:00+00:00</td>\n",
       "    </tr>\n",
       "  </tbody>\n",
       "</table>\n",
       "</div>"
      ],
      "text/plain": [
       "  ticker        open        high         low       close    volume  \\\n",
       "0   MSFT  422.579987  422.820007  416.709991  417.130005  16582300   \n",
       "1   MSFT  417.630005  419.549988  414.290009  416.540009  13686400   \n",
       "2   MSFT  418.239990  419.750000  414.970001  416.059998  19169700   \n",
       "3   MSFT  416.000000  417.109985  409.000000  409.540009  20919800   \n",
       "4   MSFT  410.899994  415.660004  408.170013  414.709991  19229300   \n",
       "\n",
       "                       date  \n",
       "0 2024-10-02 00:00:00+00:00  \n",
       "1 2024-10-03 00:00:00+00:00  \n",
       "2 2024-10-04 00:00:00+00:00  \n",
       "3 2024-10-07 00:00:00+00:00  \n",
       "4 2024-10-08 00:00:00+00:00  "
      ]
     },
     "execution_count": 5,
     "metadata": {},
     "output_type": "execute_result"
    }
   ],
   "source": [
    "conn = Db(db_config = DB_CONFIG)#datetime.now().replace(hour=0, minute=1, second=0, microsecond=0).strftime(\"%Y-%m-%d\")    \n",
    "tickers_data = conn.get_data_tickers(FROM_DATE)\n",
    "\n",
    "df = pd.DataFrame(data=tickers_data)\n",
    "\n",
    "df.head()"
   ]
  },
  {
   "cell_type": "code",
   "execution_count": null,
   "metadata": {},
   "outputs": [],
   "source": []
  }
 ],
 "metadata": {
  "kernelspec": {
   "display_name": ".venv",
   "language": "python",
   "name": "python3"
  },
  "language_info": {
   "codemirror_mode": {
    "name": "ipython",
    "version": 3
   },
   "file_extension": ".py",
   "mimetype": "text/x-python",
   "name": "python",
   "nbconvert_exporter": "python",
   "pygments_lexer": "ipython3",
   "version": "3.11.9"
  }
 },
 "nbformat": 4,
 "nbformat_minor": 2
}
