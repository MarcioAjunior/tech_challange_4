{
 "cells": [
  {
   "cell_type": "code",
   "execution_count": 43,
   "metadata": {},
   "outputs": [],
   "source": [
    "from database import Db\n",
    "import os\n",
    "from datetime import datetime\n",
    "from dotenv import load_dotenv\n",
    "import pandas as pd\n",
    "import numpy as np\n",
    "import matplotlib.pyplot as plt\n",
    "from sklearn.preprocessing import MinMaxScaler\n",
    "from torch.utils.data import Dataset\n",
    "from torch.utils.data import DataLoader\n",
    "\n",
    "import torch\n",
    "import torch.nn as nn"
   ]
  },
  {
   "cell_type": "code",
   "execution_count": 48,
   "metadata": {},
   "outputs": [],
   "source": [
    "load_dotenv()\n",
    "\n",
    "os.getenv(\"FROM_DATE\")\n",
    "TICKER = os.getenv(\"TICKER\")\n",
    "\n",
    "#UMA DATA QUE PODE SER USADA PARA SELECIONAR DADOS A PARTIR DE UMA DATA, QUANDO None PEGA TODOS OS DADOS\n",
    "FROM_DATE =  os.getenv(\"FROM_DATE\") if os.getenv(\"FROM_DATE\") != 'None' else None \n",
    "\n",
    "DB_CONFIG = {\n",
    "    \"host\": os.getenv(\"DB_HOST\"),\n",
    "    \"port\": os.getenv(\"DB_PORT\"),\n",
    "    \"dbname\": os.getenv(\"DB_NAME\"),\n",
    "    \"user\": os.getenv(\"DB_USER\"),\n",
    "    \"password\": os.getenv(\"DB_PASSWORD\"),\n",
    "}"
   ]
  },
  {
   "cell_type": "code",
   "execution_count": 49,
   "metadata": {},
   "outputs": [],
   "source": [
    "#Hiperparâmetros\n",
    "sequence_length = 7\n",
    "porcentage_train = 0.95\n",
    "batch_size = 16\n",
    "input_size = 1 \n",
    "hidden_size = 4 \n",
    "num_layers = 1\n",
    "learning_rate = 0.001\n",
    "num_epochs = 10"
   ]
  },
  {
   "cell_type": "code",
   "execution_count": 53,
   "metadata": {},
   "outputs": [
    {
     "data": {
      "text/html": [
       "<div>\n",
       "<style scoped>\n",
       "    .dataframe tbody tr th:only-of-type {\n",
       "        vertical-align: middle;\n",
       "    }\n",
       "\n",
       "    .dataframe tbody tr th {\n",
       "        vertical-align: top;\n",
       "    }\n",
       "\n",
       "    .dataframe thead th {\n",
       "        text-align: right;\n",
       "    }\n",
       "</style>\n",
       "<table border=\"1\" class=\"dataframe\">\n",
       "  <thead>\n",
       "    <tr style=\"text-align: right;\">\n",
       "      <th></th>\n",
       "    </tr>\n",
       "  </thead>\n",
       "  <tbody>\n",
       "  </tbody>\n",
       "</table>\n",
       "</div>"
      ],
      "text/plain": [
       "Empty DataFrame\n",
       "Columns: []\n",
       "Index: []"
      ]
     },
     "execution_count": 53,
     "metadata": {},
     "output_type": "execute_result"
    }
   ],
   "source": [
    "conn = Db(db_config = DB_CONFIG)#datetime.now().replace(hour=0, minute=1, second=0, microsecond=0).strftime(\"%Y-%m-%d\")    \n",
    "tickers_data = conn.get_data_tickers(FROM_DATE, ticker=TICKER)\n",
    "\n",
    "df = pd.DataFrame(data=tickers_data)\n",
    "\n",
    "df.head()"
   ]
  },
  {
   "cell_type": "code",
   "execution_count": 51,
   "metadata": {},
   "outputs": [
    {
     "ename": "KeyError",
     "evalue": "\"None of [Index(['date', 'close'], dtype='object')] are in the [columns]\"",
     "output_type": "error",
     "traceback": [
      "\u001b[1;31m---------------------------------------------------------------------------\u001b[0m",
      "\u001b[1;31mKeyError\u001b[0m                                  Traceback (most recent call last)",
      "Cell \u001b[1;32mIn[51], line 1\u001b[0m\n\u001b[1;32m----> 1\u001b[0m data \u001b[38;5;241m=\u001b[39m \u001b[43mdf\u001b[49m\u001b[43m[\u001b[49m\u001b[43m[\u001b[49m\u001b[38;5;124;43m'\u001b[39;49m\u001b[38;5;124;43mdate\u001b[39;49m\u001b[38;5;124;43m'\u001b[39;49m\u001b[43m,\u001b[49m\u001b[43m \u001b[49m\u001b[38;5;124;43m'\u001b[39;49m\u001b[38;5;124;43mclose\u001b[39;49m\u001b[38;5;124;43m'\u001b[39;49m\u001b[43m]\u001b[49m\u001b[43m]\u001b[49m\n\u001b[0;32m      2\u001b[0m data\u001b[38;5;241m.\u001b[39mhead()\n",
      "File \u001b[1;32mc:\\Users\\marci\\OneDrive\\Desktop\\FIAP\\POS\\4 FASE\\TC\\4_nn_estimator\\mlflow\\.venv\\Lib\\site-packages\\pandas\\core\\frame.py:4108\u001b[0m, in \u001b[0;36mDataFrame.__getitem__\u001b[1;34m(self, key)\u001b[0m\n\u001b[0;32m   4106\u001b[0m     \u001b[38;5;28;01mif\u001b[39;00m is_iterator(key):\n\u001b[0;32m   4107\u001b[0m         key \u001b[38;5;241m=\u001b[39m \u001b[38;5;28mlist\u001b[39m(key)\n\u001b[1;32m-> 4108\u001b[0m     indexer \u001b[38;5;241m=\u001b[39m \u001b[38;5;28;43mself\u001b[39;49m\u001b[38;5;241;43m.\u001b[39;49m\u001b[43mcolumns\u001b[49m\u001b[38;5;241;43m.\u001b[39;49m\u001b[43m_get_indexer_strict\u001b[49m\u001b[43m(\u001b[49m\u001b[43mkey\u001b[49m\u001b[43m,\u001b[49m\u001b[43m \u001b[49m\u001b[38;5;124;43m\"\u001b[39;49m\u001b[38;5;124;43mcolumns\u001b[39;49m\u001b[38;5;124;43m\"\u001b[39;49m\u001b[43m)\u001b[49m[\u001b[38;5;241m1\u001b[39m]\n\u001b[0;32m   4110\u001b[0m \u001b[38;5;66;03m# take() does not accept boolean indexers\u001b[39;00m\n\u001b[0;32m   4111\u001b[0m \u001b[38;5;28;01mif\u001b[39;00m \u001b[38;5;28mgetattr\u001b[39m(indexer, \u001b[38;5;124m\"\u001b[39m\u001b[38;5;124mdtype\u001b[39m\u001b[38;5;124m\"\u001b[39m, \u001b[38;5;28;01mNone\u001b[39;00m) \u001b[38;5;241m==\u001b[39m \u001b[38;5;28mbool\u001b[39m:\n",
      "File \u001b[1;32mc:\\Users\\marci\\OneDrive\\Desktop\\FIAP\\POS\\4 FASE\\TC\\4_nn_estimator\\mlflow\\.venv\\Lib\\site-packages\\pandas\\core\\indexes\\base.py:6200\u001b[0m, in \u001b[0;36mIndex._get_indexer_strict\u001b[1;34m(self, key, axis_name)\u001b[0m\n\u001b[0;32m   6197\u001b[0m \u001b[38;5;28;01melse\u001b[39;00m:\n\u001b[0;32m   6198\u001b[0m     keyarr, indexer, new_indexer \u001b[38;5;241m=\u001b[39m \u001b[38;5;28mself\u001b[39m\u001b[38;5;241m.\u001b[39m_reindex_non_unique(keyarr)\n\u001b[1;32m-> 6200\u001b[0m \u001b[38;5;28;43mself\u001b[39;49m\u001b[38;5;241;43m.\u001b[39;49m\u001b[43m_raise_if_missing\u001b[49m\u001b[43m(\u001b[49m\u001b[43mkeyarr\u001b[49m\u001b[43m,\u001b[49m\u001b[43m \u001b[49m\u001b[43mindexer\u001b[49m\u001b[43m,\u001b[49m\u001b[43m \u001b[49m\u001b[43maxis_name\u001b[49m\u001b[43m)\u001b[49m\n\u001b[0;32m   6202\u001b[0m keyarr \u001b[38;5;241m=\u001b[39m \u001b[38;5;28mself\u001b[39m\u001b[38;5;241m.\u001b[39mtake(indexer)\n\u001b[0;32m   6203\u001b[0m \u001b[38;5;28;01mif\u001b[39;00m \u001b[38;5;28misinstance\u001b[39m(key, Index):\n\u001b[0;32m   6204\u001b[0m     \u001b[38;5;66;03m# GH 42790 - Preserve name from an Index\u001b[39;00m\n",
      "File \u001b[1;32mc:\\Users\\marci\\OneDrive\\Desktop\\FIAP\\POS\\4 FASE\\TC\\4_nn_estimator\\mlflow\\.venv\\Lib\\site-packages\\pandas\\core\\indexes\\base.py:6249\u001b[0m, in \u001b[0;36mIndex._raise_if_missing\u001b[1;34m(self, key, indexer, axis_name)\u001b[0m\n\u001b[0;32m   6247\u001b[0m \u001b[38;5;28;01mif\u001b[39;00m nmissing:\n\u001b[0;32m   6248\u001b[0m     \u001b[38;5;28;01mif\u001b[39;00m nmissing \u001b[38;5;241m==\u001b[39m \u001b[38;5;28mlen\u001b[39m(indexer):\n\u001b[1;32m-> 6249\u001b[0m         \u001b[38;5;28;01mraise\u001b[39;00m \u001b[38;5;167;01mKeyError\u001b[39;00m(\u001b[38;5;124mf\u001b[39m\u001b[38;5;124m\"\u001b[39m\u001b[38;5;124mNone of [\u001b[39m\u001b[38;5;132;01m{\u001b[39;00mkey\u001b[38;5;132;01m}\u001b[39;00m\u001b[38;5;124m] are in the [\u001b[39m\u001b[38;5;132;01m{\u001b[39;00maxis_name\u001b[38;5;132;01m}\u001b[39;00m\u001b[38;5;124m]\u001b[39m\u001b[38;5;124m\"\u001b[39m)\n\u001b[0;32m   6251\u001b[0m     not_found \u001b[38;5;241m=\u001b[39m \u001b[38;5;28mlist\u001b[39m(ensure_index(key)[missing_mask\u001b[38;5;241m.\u001b[39mnonzero()[\u001b[38;5;241m0\u001b[39m]]\u001b[38;5;241m.\u001b[39munique())\n\u001b[0;32m   6252\u001b[0m     \u001b[38;5;28;01mraise\u001b[39;00m \u001b[38;5;167;01mKeyError\u001b[39;00m(\u001b[38;5;124mf\u001b[39m\u001b[38;5;124m\"\u001b[39m\u001b[38;5;132;01m{\u001b[39;00mnot_found\u001b[38;5;132;01m}\u001b[39;00m\u001b[38;5;124m not in index\u001b[39m\u001b[38;5;124m\"\u001b[39m)\n",
      "\u001b[1;31mKeyError\u001b[0m: \"None of [Index(['date', 'close'], dtype='object')] are in the [columns]\""
     ]
    }
   ],
   "source": [
    "data = df[['date', 'close']]\n",
    "data.head()"
   ]
  },
  {
   "cell_type": "code",
   "execution_count": null,
   "metadata": {},
   "outputs": [
    {
     "data": {
      "text/plain": [
       "'cpu'"
      ]
     },
     "execution_count": 16,
     "metadata": {},
     "output_type": "execute_result"
    }
   ],
   "source": [
    "device = 'cuda:0' if torch.cuda.is_available() else 'cpu'\n",
    "device"
   ]
  },
  {
   "cell_type": "code",
   "execution_count": null,
   "metadata": {},
   "outputs": [
    {
     "data": {
      "text/plain": [
       "[<matplotlib.lines.Line2D at 0x1feeb131910>]"
      ]
     },
     "execution_count": 17,
     "metadata": {},
     "output_type": "execute_result"
    },
    {
     "data": {
      "image/png": "[encoded data removed]",
      "text/plain": [
       "<Figure size 640x480 with 1 Axes>"
      ]
     },
     "metadata": {},
     "output_type": "display_data"
    }
   ],
   "source": [
    "plt.plot(data['date'], data['close'])"
   ]
  },
  {
   "cell_type": "code",
   "execution_count": null,
   "metadata": {},
   "outputs": [
    {
     "data": {
      "text/html": [
       "<div>\n",
       "<style scoped>\n",
       "    .dataframe tbody tr th:only-of-type {\n",
       "        vertical-align: middle;\n",
       "    }\n",
       "\n",
       "    .dataframe tbody tr th {\n",
       "        vertical-align: top;\n",
       "    }\n",
       "\n",
       "    .dataframe thead th {\n",
       "        text-align: right;\n",
       "    }\n",
       "</style>\n",
       "<table border=\"1\" class=\"dataframe\">\n",
       "  <thead>\n",
       "    <tr style=\"text-align: right;\">\n",
       "      <th></th>\n",
       "      <th>close</th>\n",
       "      <th>close(d-1)</th>\n",
       "      <th>close(d-2)</th>\n",
       "      <th>close(d-3)</th>\n",
       "      <th>close(d-4)</th>\n",
       "      <th>close(d-5)</th>\n",
       "      <th>close(d-6)</th>\n",
       "      <th>close(d-7)</th>\n",
       "    </tr>\n",
       "    <tr>\n",
       "      <th>date</th>\n",
       "      <th></th>\n",
       "      <th></th>\n",
       "      <th></th>\n",
       "      <th></th>\n",
       "      <th></th>\n",
       "      <th></th>\n",
       "      <th></th>\n",
       "      <th></th>\n",
       "    </tr>\n",
       "  </thead>\n",
       "  <tbody>\n",
       "    <tr>\n",
       "      <th>1997-05-27 00:00:00+00:00</th>\n",
       "      <td>0.079167</td>\n",
       "      <td>0.075000</td>\n",
       "      <td>0.069792</td>\n",
       "      <td>0.071354</td>\n",
       "      <td>0.081771</td>\n",
       "      <td>0.085417</td>\n",
       "      <td>0.086458</td>\n",
       "      <td>0.097917</td>\n",
       "    </tr>\n",
       "    <tr>\n",
       "      <th>1997-05-28 00:00:00+00:00</th>\n",
       "      <td>0.076563</td>\n",
       "      <td>0.079167</td>\n",
       "      <td>0.075000</td>\n",
       "      <td>0.069792</td>\n",
       "      <td>0.071354</td>\n",
       "      <td>0.081771</td>\n",
       "      <td>0.085417</td>\n",
       "      <td>0.086458</td>\n",
       "    </tr>\n",
       "    <tr>\n",
       "      <th>1997-05-29 00:00:00+00:00</th>\n",
       "      <td>0.075260</td>\n",
       "      <td>0.076563</td>\n",
       "      <td>0.079167</td>\n",
       "      <td>0.075000</td>\n",
       "      <td>0.069792</td>\n",
       "      <td>0.071354</td>\n",
       "      <td>0.081771</td>\n",
       "      <td>0.085417</td>\n",
       "    </tr>\n",
       "    <tr>\n",
       "      <th>1997-05-30 00:00:00+00:00</th>\n",
       "      <td>0.075000</td>\n",
       "      <td>0.075260</td>\n",
       "      <td>0.076563</td>\n",
       "      <td>0.079167</td>\n",
       "      <td>0.075000</td>\n",
       "      <td>0.069792</td>\n",
       "      <td>0.071354</td>\n",
       "      <td>0.081771</td>\n",
       "    </tr>\n",
       "    <tr>\n",
       "      <th>1997-06-02 00:00:00+00:00</th>\n",
       "      <td>0.075521</td>\n",
       "      <td>0.075000</td>\n",
       "      <td>0.075260</td>\n",
       "      <td>0.076563</td>\n",
       "      <td>0.079167</td>\n",
       "      <td>0.075000</td>\n",
       "      <td>0.069792</td>\n",
       "      <td>0.071354</td>\n",
       "    </tr>\n",
       "    <tr>\n",
       "      <th>...</th>\n",
       "      <td>...</td>\n",
       "      <td>...</td>\n",
       "      <td>...</td>\n",
       "      <td>...</td>\n",
       "      <td>...</td>\n",
       "      <td>...</td>\n",
       "      <td>...</td>\n",
       "      <td>...</td>\n",
       "    </tr>\n",
       "    <tr>\n",
       "      <th>2024-11-18 00:00:00+00:00</th>\n",
       "      <td>201.699997</td>\n",
       "      <td>202.610001</td>\n",
       "      <td>211.479996</td>\n",
       "      <td>214.100006</td>\n",
       "      <td>208.910004</td>\n",
       "      <td>206.839996</td>\n",
       "      <td>208.179993</td>\n",
       "      <td>210.050003</td>\n",
       "    </tr>\n",
       "    <tr>\n",
       "      <th>2024-11-19 00:00:00+00:00</th>\n",
       "      <td>204.610001</td>\n",
       "      <td>201.699997</td>\n",
       "      <td>202.610001</td>\n",
       "      <td>211.479996</td>\n",
       "      <td>214.100006</td>\n",
       "      <td>208.910004</td>\n",
       "      <td>206.839996</td>\n",
       "      <td>208.179993</td>\n",
       "    </tr>\n",
       "    <tr>\n",
       "      <th>2024-11-20 00:00:00+00:00</th>\n",
       "      <td>202.880005</td>\n",
       "      <td>204.610001</td>\n",
       "      <td>201.699997</td>\n",
       "      <td>202.610001</td>\n",
       "      <td>211.479996</td>\n",
       "      <td>214.100006</td>\n",
       "      <td>208.910004</td>\n",
       "      <td>206.839996</td>\n",
       "    </tr>\n",
       "    <tr>\n",
       "      <th>2024-11-21 00:00:00+00:00</th>\n",
       "      <td>198.380005</td>\n",
       "      <td>202.880005</td>\n",
       "      <td>204.610001</td>\n",
       "      <td>201.699997</td>\n",
       "      <td>202.610001</td>\n",
       "      <td>211.479996</td>\n",
       "      <td>214.100006</td>\n",
       "      <td>208.910004</td>\n",
       "    </tr>\n",
       "    <tr>\n",
       "      <th>2024-11-22 00:00:00+00:00</th>\n",
       "      <td>197.119995</td>\n",
       "      <td>198.380005</td>\n",
       "      <td>202.880005</td>\n",
       "      <td>204.610001</td>\n",
       "      <td>201.699997</td>\n",
       "      <td>202.610001</td>\n",
       "      <td>211.479996</td>\n",
       "      <td>214.100006</td>\n",
       "    </tr>\n",
       "  </tbody>\n",
       "</table>\n",
       "<p>6921 rows × 8 columns</p>\n",
       "</div>"
      ],
      "text/plain": [
       "                                close  close(d-1)  close(d-2)  close(d-3)  \\\n",
       "date                                                                        \n",
       "1997-05-27 00:00:00+00:00    0.079167    0.075000    0.069792    0.071354   \n",
       "1997-05-28 00:00:00+00:00    0.076563    0.079167    0.075000    0.069792   \n",
       "1997-05-29 00:00:00+00:00    0.075260    0.076563    0.079167    0.075000   \n",
       "1997-05-30 00:00:00+00:00    0.075000    0.075260    0.076563    0.079167   \n",
       "1997-06-02 00:00:00+00:00    0.075521    0.075000    0.075260    0.076563   \n",
       "...                               ...         ...         ...         ...   \n",
       "2024-11-18 00:00:00+00:00  201.699997  202.610001  211.479996  214.100006   \n",
       "2024-11-19 00:00:00+00:00  204.610001  201.699997  202.610001  211.479996   \n",
       "2024-11-20 00:00:00+00:00  202.880005  204.610001  201.699997  202.610001   \n",
       "2024-11-21 00:00:00+00:00  198.380005  202.880005  204.610001  201.699997   \n",
       "2024-11-22 00:00:00+00:00  197.119995  198.380005  202.880005  204.610001   \n",
       "\n",
       "                           close(d-4)  close(d-5)  close(d-6)  close(d-7)  \n",
       "date                                                                       \n",
       "1997-05-27 00:00:00+00:00    0.081771    0.085417    0.086458    0.097917  \n",
       "1997-05-28 00:00:00+00:00    0.071354    0.081771    0.085417    0.086458  \n",
       "1997-05-29 00:00:00+00:00    0.069792    0.071354    0.081771    0.085417  \n",
       "1997-05-30 00:00:00+00:00    0.075000    0.069792    0.071354    0.081771  \n",
       "1997-06-02 00:00:00+00:00    0.079167    0.075000    0.069792    0.071354  \n",
       "...                               ...         ...         ...         ...  \n",
       "2024-11-18 00:00:00+00:00  208.910004  206.839996  208.179993  210.050003  \n",
       "2024-11-19 00:00:00+00:00  214.100006  208.910004  206.839996  208.179993  \n",
       "2024-11-20 00:00:00+00:00  211.479996  214.100006  208.910004  206.839996  \n",
       "2024-11-21 00:00:00+00:00  202.610001  211.479996  214.100006  208.910004  \n",
       "2024-11-22 00:00:00+00:00  201.699997  202.610001  211.479996  214.100006  \n",
       "\n",
       "[6921 rows x 8 columns]"
      ]
     },
     "execution_count": 18,
     "metadata": {},
     "output_type": "execute_result"
    }
   ],
   "source": [
    "from copy import deepcopy as dc\n",
    "\n",
    "def prepare_dataframe_for_lstm(df, sequence_length):\n",
    "    df = dc(df)\n",
    "\n",
    "    df.set_index('date', inplace=True)\n",
    "\n",
    "    for i in range(1, sequence_length+1):\n",
    "        df[f'close(d-{i})'] = df['close'].shift(i)\n",
    "\n",
    "    df.dropna(inplace=True)\n",
    "\n",
    "    return df\n",
    "\n",
    "prepared_df = prepare_dataframe_for_lstm(data, sequence_length)\n",
    "prepared_df"
   ]
  },
  {
   "cell_type": "code",
   "execution_count": null,
   "metadata": {},
   "outputs": [
    {
     "data": {
      "text/plain": [
       "array([[Decimal('0.079167'), Decimal('0.075000'), Decimal('0.069792'),\n",
       "        ..., Decimal('0.085417'), Decimal('0.086458'),\n",
       "        Decimal('0.097917')],\n",
       "       [Decimal('0.076563'), Decimal('0.079167'), Decimal('0.075000'),\n",
       "        ..., Decimal('0.081771'), Decimal('0.085417'),\n",
       "        Decimal('0.086458')],\n",
       "       [Decimal('0.075260'), Decimal('0.076563'), Decimal('0.079167'),\n",
       "        ..., Decimal('0.071354'), Decimal('0.081771'),\n",
       "        Decimal('0.085417')],\n",
       "       ...,\n",
       "       [Decimal('202.880005'), Decimal('204.610001'),\n",
       "        Decimal('201.699997'), ..., Decimal('214.100006'),\n",
       "        Decimal('208.910004'), Decimal('206.839996')],\n",
       "       [Decimal('198.380005'), Decimal('202.880005'),\n",
       "        Decimal('204.610001'), ..., Decimal('211.479996'),\n",
       "        Decimal('214.100006'), Decimal('208.910004')],\n",
       "       [Decimal('197.119995'), Decimal('198.380005'),\n",
       "        Decimal('202.880005'), ..., Decimal('202.610001'),\n",
       "        Decimal('211.479996'), Decimal('214.100006')]], dtype=object)"
      ]
     },
     "execution_count": 19,
     "metadata": {},
     "output_type": "execute_result"
    }
   ],
   "source": [
    "prepared_df_np = prepared_df.to_numpy()\n",
    "prepared_df_np"
   ]
  },
  {
   "cell_type": "code",
   "execution_count": null,
   "metadata": {},
   "outputs": [
    {
     "data": {
      "text/plain": [
       "array([[Decimal('0.079167'), Decimal('0.075000'), Decimal('0.069792'),\n",
       "        ..., Decimal('0.085417'), Decimal('0.086458'),\n",
       "        Decimal('0.097917')],\n",
       "       [Decimal('0.076563'), Decimal('0.079167'), Decimal('0.075000'),\n",
       "        ..., Decimal('0.081771'), Decimal('0.085417'),\n",
       "        Decimal('0.086458')],\n",
       "       [Decimal('0.075260'), Decimal('0.076563'), Decimal('0.079167'),\n",
       "        ..., Decimal('0.071354'), Decimal('0.081771'),\n",
       "        Decimal('0.085417')],\n",
       "       ...,\n",
       "       [Decimal('202.880005'), Decimal('204.610001'),\n",
       "        Decimal('201.699997'), ..., Decimal('214.100006'),\n",
       "        Decimal('208.910004'), Decimal('206.839996')],\n",
       "       [Decimal('198.380005'), Decimal('202.880005'),\n",
       "        Decimal('204.610001'), ..., Decimal('211.479996'),\n",
       "        Decimal('214.100006'), Decimal('208.910004')],\n",
       "       [Decimal('197.119995'), Decimal('198.380005'),\n",
       "        Decimal('202.880005'), ..., Decimal('202.610001'),\n",
       "        Decimal('211.479996'), Decimal('214.100006')]], dtype=object)"
      ]
     },
     "execution_count": 20,
     "metadata": {},
     "output_type": "execute_result"
    }
   ],
   "source": [
    "prepared_df_np"
   ]
  },
  {
   "cell_type": "code",
   "execution_count": null,
   "metadata": {},
   "outputs": [
    {
     "data": {
      "text/plain": [
       "array([[-0.99992212, -0.99996106, -1.        , ..., -0.99985399,\n",
       "        -0.99984426, -0.99973719],\n",
       "       [-0.99994646, -0.99992212, -0.99995133, ..., -0.99988806,\n",
       "        -0.99985399, -0.99984426],\n",
       "       [-0.99995863, -0.99994646, -0.9999124 , ..., -0.9999854 ,\n",
       "        -0.99988806, -0.99985399],\n",
       "       ...,\n",
       "       [ 0.89515447,  0.91132045,  0.88412842, ...,  1.        ,\n",
       "         0.95150216,  0.93215902],\n",
       "       [ 0.85310413,  0.89515447,  0.91132088, ...,  0.97551738,\n",
       "         1.        ,  0.95150216],\n",
       "       [ 0.84132994,  0.85310413,  0.89515498, ...,  0.89263193,\n",
       "         0.97551738,  1.        ]])"
      ]
     },
     "execution_count": 21,
     "metadata": {},
     "output_type": "execute_result"
    }
   ],
   "source": [
    "#Normalizando os valores do dataset\n",
    "scaler = MinMaxScaler(feature_range=(-1, 1))\n",
    "prepared_df_np = scaler.fit_transform(prepared_df_np)\n",
    "\n",
    "prepared_df_np"
   ]
  },
  {
   "cell_type": "code",
   "execution_count": null,
   "metadata": {},
   "outputs": [
    {
     "data": {
      "text/plain": [
       "((6921, 7), (6921,))"
      ]
     },
     "execution_count": 22,
     "metadata": {},
     "output_type": "execute_result"
    }
   ],
   "source": [
    "X = prepared_df_np[:, 1:]\n",
    "#Realizando flip para inverter as colunas (d-1 -> d-7) para (d-7 -> d-1)\n",
    "X = dc(np.flip(X, axis=1))\n",
    "\n",
    "y = prepared_df_np[:, 0]\n",
    "\n",
    "X.shape, y.shape"
   ]
  },
  {
   "cell_type": "code",
   "execution_count": null,
   "metadata": {},
   "outputs": [
    {
     "data": {
      "text/plain": [
       "array([[-0.99973719, -0.99984426, -0.99985399, ..., -0.9999854 ,\n",
       "        -1.        , -0.99996106],\n",
       "       [-0.99984426, -0.99985399, -0.99988806, ..., -1.        ,\n",
       "        -0.99995133, -0.99992212],\n",
       "       [-0.99985399, -0.99988806, -0.9999854 , ..., -0.99995133,\n",
       "        -0.9999124 , -0.99994646],\n",
       "       ...,\n",
       "       [ 0.93215902,  0.95150216,  1.        , ...,  0.89263193,\n",
       "         0.88412842,  0.91132045],\n",
       "       [ 0.95150216,  1.        ,  0.97551738, ...,  0.88412842,\n",
       "         0.91132088,  0.89515447],\n",
       "       [ 1.        ,  0.97551738,  0.89263193, ...,  0.91132088,\n",
       "         0.89515498,  0.85310413]])"
      ]
     },
     "execution_count": 23,
     "metadata": {},
     "output_type": "execute_result"
    }
   ],
   "source": [
    "X"
   ]
  },
  {
   "cell_type": "code",
   "execution_count": null,
   "metadata": {},
   "outputs": [
    {
     "data": {
      "text/plain": [
       "((6574, 7), (347, 7), (6574,), (347,))"
      ]
     },
     "execution_count": 24,
     "metadata": {},
     "output_type": "execute_result"
    }
   ],
   "source": [
    "#Definindo o tamanho de treino e do teste com base na portencetagem usada para trainamento\n",
    "train_size = int(len(X) * porcentage_train) # train_size and test_size \n",
    "\n",
    "X_train = X[:train_size]\n",
    "X_test = X[train_size:]\n",
    "\n",
    "y_train = y[:train_size]\n",
    "y_test = y[train_size:]\n",
    "\n",
    "X_train.shape, X_test.shape, y_train.shape, y_test.shape"
   ]
  },
  {
   "cell_type": "code",
   "execution_count": null,
   "metadata": {},
   "outputs": [
    {
     "data": {
      "text/plain": [
       "((6574, 7, 1), (347, 7, 1), (6574, 1), (347, 1))"
      ]
     },
     "execution_count": 25,
     "metadata": {},
     "output_type": "execute_result"
    }
   ],
   "source": [
    "#Preparando dimensão extra para o modelo LSTM do pythorch\n",
    "X_train = X_train.reshape((-1, sequence_length, 1))\n",
    "X_test = X_test.reshape((-1, sequence_length, 1))\n",
    "\n",
    "y_train = y_train.reshape((-1, 1))\n",
    "y_test = y_test.reshape((-1, 1))\n",
    "\n",
    "X_train.shape, X_test.shape, y_train.shape, y_test.shape"
   ]
  },
  {
   "cell_type": "code",
   "execution_count": null,
   "metadata": {},
   "outputs": [
    {
     "data": {
      "text/plain": [
       "(torch.Size([6574, 7, 1]),\n",
       " torch.Size([347, 7, 1]),\n",
       " torch.Size([6574, 1]),\n",
       " torch.Size([347, 1]))"
      ]
     },
     "execution_count": 26,
     "metadata": {},
     "output_type": "execute_result"
    }
   ],
   "source": [
    "X_train = torch.tensor(X_train).float()\n",
    "y_train = torch.tensor(y_train).float()\n",
    "X_test = torch.tensor(X_test).float()\n",
    "y_test = torch.tensor(y_test).float()\n",
    "\n",
    "X_train.shape, X_test.shape, y_train.shape, y_test.shape"
   ]
  },
  {
   "cell_type": "code",
   "execution_count": null,
   "metadata": {},
   "outputs": [],
   "source": [
    "class TimeSeriesDataset(Dataset):\n",
    "    def __init__(self, X, y):\n",
    "        self.X = X\n",
    "        self.y = y\n",
    "\n",
    "    def __len__(self):\n",
    "        return len(self.X)\n",
    "\n",
    "    def __getitem__(self, i):\n",
    "        return self.X[i], self.y[i]\n",
    "\n",
    "train_dataset = TimeSeriesDataset(X_train, y_train)\n",
    "test_dataset = TimeSeriesDataset(X_test, y_test)"
   ]
  },
  {
   "cell_type": "code",
   "execution_count": null,
   "metadata": {},
   "outputs": [
    {
     "data": {
      "text/plain": [
       "tensor([[[0.2175],\n",
       "         [0.2162],\n",
       "         [0.2177],\n",
       "         ...,\n",
       "         [0.2121],\n",
       "         [0.1873],\n",
       "         [0.2027]],\n",
       "\n",
       "        [[0.2162],\n",
       "         [0.2177],\n",
       "         [0.1988],\n",
       "         ...,\n",
       "         [0.1873],\n",
       "         [0.2027],\n",
       "         [0.2216]],\n",
       "\n",
       "        [[0.2177],\n",
       "         [0.1988],\n",
       "         [0.2121],\n",
       "         ...,\n",
       "         [0.2027],\n",
       "         [0.2216],\n",
       "         [0.2543]],\n",
       "\n",
       "        ...,\n",
       "\n",
       "        [[0.9322],\n",
       "         [0.9515],\n",
       "         [1.0000],\n",
       "         ...,\n",
       "         [0.8926],\n",
       "         [0.8841],\n",
       "         [0.9113]],\n",
       "\n",
       "        [[0.9515],\n",
       "         [1.0000],\n",
       "         [0.9755],\n",
       "         ...,\n",
       "         [0.8841],\n",
       "         [0.9113],\n",
       "         [0.8952]],\n",
       "\n",
       "        [[1.0000],\n",
       "         [0.9755],\n",
       "         [0.8926],\n",
       "         ...,\n",
       "         [0.9113],\n",
       "         [0.8952],\n",
       "         [0.8531]]])"
      ]
     },
     "execution_count": 28,
     "metadata": {},
     "output_type": "execute_result"
    }
   ],
   "source": [
    "X_test"
   ]
  },
  {
   "cell_type": "code",
   "execution_count": null,
   "metadata": {},
   "outputs": [],
   "source": [
    "train_loader = DataLoader(train_dataset, batch_size=batch_size, shuffle=True)\n",
    "test_loader = DataLoader(test_dataset, batch_size=batch_size, shuffle=False)"
   ]
  },
  {
   "cell_type": "code",
   "execution_count": null,
   "metadata": {},
   "outputs": [
    {
     "name": "stdout",
     "output_type": "stream",
     "text": [
      "torch.Size([16, 7, 1]) torch.Size([16, 1])\n"
     ]
    }
   ],
   "source": [
    "for _, batch in enumerate(train_loader):\n",
    "    x_batch, y_batch = batch[0].to(device), batch[1].to(device)\n",
    "    print(x_batch.shape, y_batch.shape)\n",
    "    break"
   ]
  },
  {
   "cell_type": "code",
   "execution_count": null,
   "metadata": {},
   "outputs": [
    {
     "data": {
      "text/plain": [
       "LSTM(\n",
       "  (lstm): LSTM(1, 4, batch_first=True)\n",
       "  (fc): Linear(in_features=4, out_features=1, bias=True)\n",
       ")"
      ]
     },
     "execution_count": 31,
     "metadata": {},
     "output_type": "execute_result"
    }
   ],
   "source": [
    "class LSTM(nn.Module):\n",
    "    def __init__(self, input_size, hidden_size, num_layers):\n",
    "        super().__init__()\n",
    "        self.hidden_size = hidden_size\n",
    "        self.num_layers = num_layers\n",
    "\n",
    "        self.lstm = nn.LSTM(input_size, hidden_size, num_layers,\n",
    "                            batch_first=True)\n",
    "\n",
    "        self.fc = nn.Linear(hidden_size, 1)\n",
    "\n",
    "    def forward(self, x):\n",
    "        batch_size = x.size(0)\n",
    "        h0 = torch.zeros(self.num_layers, batch_size, self.hidden_size).to(device)\n",
    "        c0 = torch.zeros(self.num_layers, batch_size, self.hidden_size).to(device)\n",
    "\n",
    "        out, _ = self.lstm(x, (h0, c0))\n",
    "        out = self.fc(out[:, -1, :])\n",
    "        return out\n",
    "\n",
    "model = LSTM(input_size, hidden_size, num_layers)\n",
    "model.to(device)\n",
    "model"
   ]
  },
  {
   "cell_type": "code",
   "execution_count": null,
   "metadata": {},
   "outputs": [],
   "source": [
    "loss_function = nn.MSELoss()\n",
    "optimizer = torch.optim.Adam(model.parameters(), learning_rate)"
   ]
  },
  {
   "cell_type": "code",
   "execution_count": null,
   "metadata": {},
   "outputs": [],
   "source": [
    "def train_epoch():\n",
    "    model.train(True)\n",
    "    print(f'Epoch: {epoch + 1}')\n",
    "    running_loss = 0.0\n",
    "\n",
    "    for batch_index, batch in enumerate(train_loader):\n",
    "        x_batch, y_batch = batch[0].to(device), batch[1].to(device)\n",
    "\n",
    "        output = model(x_batch)\n",
    "        loss = loss_function(output, y_batch)\n",
    "        running_loss += loss.item()\n",
    "\n",
    "        optimizer.zero_grad()\n",
    "        loss.backward()\n",
    "        optimizer.step()\n",
    "\n",
    "        if batch_index % 100 == 99:  # print every 100 batches\n",
    "            avg_loss_across_batches = running_loss / 100\n",
    "            print('Batch {0}, Loss: {1:.3f}'.format(batch_index+1,\n",
    "                                                    avg_loss_across_batches))\n",
    "            running_loss = 0.0\n",
    "    print()"
   ]
  },
  {
   "cell_type": "code",
   "execution_count": null,
   "metadata": {},
   "outputs": [],
   "source": [
    "def validate_epoch():\n",
    "    model.train(False)\n",
    "    running_loss = 0.0\n",
    "\n",
    "    for batch_index, batch in enumerate(test_loader):\n",
    "        x_batch, y_batch = batch[0].to(device), batch[1].to(device)\n",
    "\n",
    "        with torch.no_grad():\n",
    "            output = model(x_batch)\n",
    "            loss = loss_function(output, y_batch)\n",
    "            running_loss += loss.item()\n",
    "\n",
    "    avg_loss_across_batches = running_loss / len(test_loader)\n",
    "\n",
    "    print('Val Loss: {0:.3f}'.format(avg_loss_across_batches))\n",
    "    print('***************************************************')\n",
    "    print()"
   ]
  },
  {
   "cell_type": "code",
   "execution_count": null,
   "metadata": {},
   "outputs": [
    {
     "name": "stdout",
     "output_type": "stream",
     "text": [
      "Epoch: 1\n",
      "Batch 100, Loss: 0.343\n",
      "Batch 200, Loss: 0.155\n",
      "Batch 300, Loss: 0.075\n",
      "Batch 400, Loss: 0.032\n",
      "\n",
      "Val Loss: 0.340\n",
      "***************************************************\n",
      "\n",
      "Epoch: 2\n",
      "Batch 100, Loss: 0.017\n",
      "Batch 200, Loss: 0.014\n",
      "Batch 300, Loss: 0.012\n",
      "Batch 400, Loss: 0.007\n",
      "\n",
      "Val Loss: 0.095\n",
      "***************************************************\n",
      "\n",
      "Epoch: 3\n",
      "Batch 100, Loss: 0.006\n",
      "Batch 200, Loss: 0.004\n",
      "Batch 300, Loss: 0.004\n",
      "Batch 400, Loss: 0.003\n",
      "\n",
      "Val Loss: 0.039\n",
      "***************************************************\n",
      "\n",
      "Epoch: 4\n",
      "Batch 100, Loss: 0.003\n",
      "Batch 200, Loss: 0.002\n",
      "Batch 300, Loss: 0.002\n",
      "Batch 400, Loss: 0.002\n",
      "\n",
      "Val Loss: 0.021\n",
      "***************************************************\n",
      "\n",
      "Epoch: 5\n",
      "Batch 100, Loss: 0.001\n",
      "Batch 200, Loss: 0.001\n",
      "Batch 300, Loss: 0.001\n",
      "Batch 400, Loss: 0.001\n",
      "\n",
      "Val Loss: 0.015\n",
      "***************************************************\n",
      "\n",
      "Epoch: 6\n",
      "Batch 100, Loss: 0.001\n",
      "Batch 200, Loss: 0.001\n",
      "Batch 300, Loss: 0.001\n",
      "Batch 400, Loss: 0.001\n",
      "\n",
      "Val Loss: 0.010\n",
      "***************************************************\n",
      "\n",
      "Epoch: 7\n",
      "Batch 100, Loss: 0.001\n",
      "Batch 200, Loss: 0.001\n",
      "Batch 300, Loss: 0.000\n",
      "Batch 400, Loss: 0.000\n",
      "\n",
      "Val Loss: 0.007\n",
      "***************************************************\n",
      "\n",
      "Epoch: 8\n",
      "Batch 100, Loss: 0.000\n",
      "Batch 200, Loss: 0.000\n",
      "Batch 300, Loss: 0.000\n",
      "Batch 400, Loss: 0.000\n",
      "\n",
      "Val Loss: 0.005\n",
      "***************************************************\n",
      "\n",
      "Epoch: 9\n",
      "Batch 100, Loss: 0.000\n",
      "Batch 200, Loss: 0.000\n",
      "Batch 300, Loss: 0.000\n",
      "Batch 400, Loss: 0.000\n",
      "\n",
      "Val Loss: 0.005\n",
      "***************************************************\n",
      "\n",
      "Epoch: 10\n",
      "Batch 100, Loss: 0.000\n",
      "Batch 200, Loss: 0.000\n",
      "Batch 300, Loss: 0.000\n",
      "Batch 400, Loss: 0.000\n",
      "\n",
      "Val Loss: 0.003\n",
      "***************************************************\n",
      "\n"
     ]
    }
   ],
   "source": [
    "for epoch in range(num_epochs):\n",
    "    train_epoch()\n",
    "    validate_epoch()"
   ]
  },
  {
   "cell_type": "code",
   "execution_count": null,
   "metadata": {},
   "outputs": [
    {
     "data": {
      "image/png": "[encoded data removed]",
      "text/plain": [
       "<Figure size 640x480 with 1 Axes>"
      ]
     },
     "metadata": {},
     "output_type": "display_data"
    }
   ],
   "source": [
    "with torch.no_grad():\n",
    "    predicted = model(X_train.to(device)).to('cpu').numpy()\n",
    "\n",
    "plt.plot(y_train, label='Actual Close')\n",
    "plt.plot(predicted, label='Predicted Close')\n",
    "plt.xlabel('Day')\n",
    "plt.ylabel('Close')\n",
    "plt.legend()\n",
    "plt.show()"
   ]
  },
  {
   "cell_type": "code",
   "execution_count": null,
   "metadata": {},
   "outputs": [
    {
     "data": {
      "text/plain": [
       "array([  0.39107531,   0.39134321,   0.39120288, ..., 131.01234382,\n",
       "       131.06340425, 130.0418864 ])"
      ]
     },
     "execution_count": 37,
     "metadata": {},
     "output_type": "execute_result"
    }
   ],
   "source": [
    "train_predictions = predicted.flatten()\n",
    "\n",
    "dummies = np.zeros((X_train.shape[0], sequence_length+1))\n",
    "dummies[:, 0] = train_predictions\n",
    "dummies = scaler.inverse_transform(dummies)\n",
    "\n",
    "train_predictions = dc(dummies[:, 0])\n",
    "train_predictions"
   ]
  },
  {
   "cell_type": "code",
   "execution_count": null,
   "metadata": {},
   "outputs": [
    {
     "name": "stderr",
     "output_type": "stream",
     "text": [
      "C:\\Users\\marci\\AppData\\Local\\Temp\\ipykernel_5312\\1182887007.py:2: DeprecationWarning: __array__ implementation doesn't accept a copy keyword, so passing copy=False failed. __array__ must implement 'dtype' and 'copy' keyword arguments.\n",
      "  dummies[:, 0] = y_train.flatten()\n"
     ]
    },
    {
     "data": {
      "text/plain": [
       "array([7.91697863e-02, 7.65609526e-02, 7.52597251e-02, ...,\n",
       "       1.29779998e+02, 1.27129997e+02, 1.28779999e+02])"
      ]
     },
     "execution_count": 38,
     "metadata": {},
     "output_type": "execute_result"
    }
   ],
   "source": [
    "dummies = np.zeros((X_train.shape[0], sequence_length+1))\n",
    "dummies[:, 0] = y_train.flatten()\n",
    "dummies = scaler.inverse_transform(dummies)\n",
    "\n",
    "new_y_train = dc(dummies[:, 0])\n",
    "new_y_train"
   ]
  },
  {
   "cell_type": "code",
   "execution_count": null,
   "metadata": {},
   "outputs": [
    {
     "data": {
      "image/png": "[encoded data removed]",
      "text/plain": [
       "<Figure size 640x480 with 1 Axes>"
      ]
     },
     "metadata": {},
     "output_type": "display_data"
    }
   ],
   "source": [
    "plt.plot(new_y_train, label='Actual Close')\n",
    "plt.plot(train_predictions, label='Predicted Close')\n",
    "plt.xlabel('Day')\n",
    "plt.ylabel('Close')\n",
    "plt.legend()\n",
    "plt.show()"
   ]
  },
  {
   "cell_type": "code",
   "execution_count": null,
   "metadata": {},
   "outputs": [
    {
     "data": {
      "text/plain": [
       "array([129.9211529 , 130.80529875, 132.93315023, 134.66178957,\n",
       "       135.26565483, 135.16841996, 135.82944994, 134.13427575,\n",
       "       132.80382161, 131.48758848, 130.83107134, 130.14004935,\n",
       "       129.81690799, 131.36484254, 133.1040097 , 133.55169576,\n",
       "       132.22664746, 131.32533689, 134.86323107, 138.69118738,\n",
       "       140.61590066, 140.80681753, 140.72527394, 140.30129063,\n",
       "       140.74555778, 140.19284224, 138.77784658, 137.24117339,\n",
       "       135.86559727, 135.6471824 , 135.55852033, 136.18300749,\n",
       "       135.20019798, 134.92456099, 134.70776627, 135.30067954,\n",
       "       135.90569932, 137.47487131, 138.66367024, 138.98347881,\n",
       "       138.2947212 , 138.60637796, 139.03319973, 141.21275587,\n",
       "       142.18727325, 144.073039  , 145.23831379, 144.19250955,\n",
       "       143.03089607, 141.20035594, 139.0776711 , 135.22821264,\n",
       "       132.61207233, 132.04056554, 129.87173177, 128.52724478,\n",
       "       127.79053949, 127.9437112 , 129.08601677, 128.11821921,\n",
       "       128.27031931, 127.87681917, 128.41029057, 128.99188507,\n",
       "       129.92940357, 131.55727751, 132.76457748, 132.50599358,\n",
       "       133.15203393, 133.1726654 , 131.75423807, 130.75449665,\n",
       "       128.8279304 , 128.11345761, 128.60156784, 126.29882882,\n",
       "       123.7789921 , 125.39257805, 128.98201105, 131.85541808,\n",
       "       135.23845662, 137.80883391, 139.28931831, 140.32003723,\n",
       "       142.02812164, 142.9447918 , 142.82575499, 143.71478682,\n",
       "       143.95761885, 145.24932319, 145.20911909, 144.9461882 ,\n",
       "       145.54179322, 146.3124261 , 146.07470969, 146.83595332,\n",
       "       147.44856359, 148.16532948, 148.35607413, 148.17095538,\n",
       "       147.88910566, 147.96874844, 147.27932109, 147.52901007,\n",
       "       146.91326154, 147.33038152, 147.88673284, 147.73764022,\n",
       "       148.17479527, 148.94766703, 149.00712165, 149.85980841,\n",
       "       151.94722616, 153.35798007, 153.61362663, 154.20254691,\n",
       "       154.38279882, 154.39178622, 154.34714901, 154.36261704,\n",
       "       153.85773437, 152.71974709, 151.37574488, 148.99694783,\n",
       "       147.61519726, 148.29621128, 149.90493038, 152.01624862,\n",
       "       153.9798584 , 155.01560364, 154.94729557, 154.14814412,\n",
       "       154.12216422, 154.80905928, 155.20662894, 155.93028368,\n",
       "       156.70969985, 157.49458245, 158.42760725, 159.75625625,\n",
       "       159.9189097 , 158.57696776, 158.85826254, 163.11615017,\n",
       "       165.90110881, 167.41404097, 168.63709281, 169.04435152,\n",
       "       170.438451  , 170.78577669, 169.90882587, 169.85367678,\n",
       "       169.45815464, 169.09673231, 168.11595118, 167.91692715,\n",
       "       169.62793932, 171.0714089 , 172.03125557, 172.27286291,\n",
       "       172.19012015, 173.0296543 , 174.03843734, 174.61255934,\n",
       "       174.01372677, 173.28385293, 173.63522264, 173.53363759,\n",
       "       172.52070849, 172.76005781, 173.33768803, 174.38321161,\n",
       "       173.95561803, 173.57124562, 173.64397403, 174.31205232,\n",
       "       174.84643586, 175.4305467 , 176.06331325, 176.08373741,\n",
       "       176.42143148, 176.7880332 , 177.19814951, 177.40611629,\n",
       "       177.97022395, 177.74734408, 178.81419758, 179.64994287,\n",
       "       180.34367575, 180.86290381, 181.90794262, 181.95113827,\n",
       "       181.262521  , 180.60162498, 179.59058393, 178.32388994,\n",
       "       176.18654715, 175.40663983, 175.64163898, 175.17231682,\n",
       "       174.06040512, 174.89984997, 175.96408827, 175.13722194,\n",
       "       175.52514084, 177.32587392, 179.03267624, 180.79948811,\n",
       "       182.01567661, 182.58703032, 183.18313286, 183.04996115,\n",
       "       182.6504843 , 182.44208377, 182.04762047, 181.19647732,\n",
       "       180.8407957 , 180.35409833, 179.93891744, 179.67095387,\n",
       "       178.98871516, 178.42390586, 178.40337963, 178.42121411,\n",
       "       177.76681146, 176.49515495, 176.07169468, 176.10680231,\n",
       "       176.73074092, 178.21000701, 179.14928919, 180.42187698,\n",
       "       181.3025784 , 181.7535558 , 181.23686641, 180.70317175,\n",
       "       180.38957592, 179.87357541, 180.3508325 , 181.495479  ,\n",
       "       181.54677543, 181.68693805, 183.41098801, 185.58476517,\n",
       "       186.18098253, 187.26763511, 188.54012084, 188.92737636,\n",
       "       189.55019234, 189.81721189, 189.96662343, 190.13358878,\n",
       "       189.29262583, 188.48446147, 187.52188477, 186.89476963,\n",
       "       185.37770415, 183.27836486, 181.61274257, 180.3585123 ,\n",
       "       180.55711534, 179.50127124, 178.51377986, 178.51963539,\n",
       "       178.77783975, 178.63825121, 179.85475864, 180.09655733,\n",
       "       175.80698418, 170.11766013, 166.15836915, 163.93514534,\n",
       "       163.86776216, 164.74564426, 165.60247708, 167.16498347,\n",
       "       168.14570081, 170.88232268, 172.66888258, 174.1201085 ,\n",
       "       175.17259747, 176.08613576, 175.55786289, 175.25747068,\n",
       "       174.60066969, 173.44107184, 171.93352318, 171.28154439,\n",
       "       172.77319766, 173.39244164, 173.01859387, 173.9270293 ,\n",
       "       172.74065421, 172.8866596 , 174.18420034, 176.52213628,\n",
       "       178.84040073, 180.29000649, 180.77998245, 181.39454457,\n",
       "       181.61784542, 182.5121587 , 183.56221106, 184.81392818,\n",
       "       185.70571555, 185.96023311, 185.73440634, 184.75856222,\n",
       "       183.58156363, 182.4310361 , 181.56162474, 180.32988529,\n",
       "       180.64108279, 179.58907859, 179.30430111, 179.77230929,\n",
       "       180.54050555, 181.64288767, 182.132634  , 182.45167714,\n",
       "       182.41480902, 182.46465114, 182.8233562 , 183.11680853,\n",
       "       183.47502882, 182.55407864, 182.19240117, 182.28814345,\n",
       "       182.53607833, 183.31847328, 184.34658338, 183.65871877,\n",
       "       185.56259328, 186.56615865, 187.96381736, 190.33493461,\n",
       "       192.51320228, 193.68749636, 194.16128352, 194.65678331,\n",
       "       195.75369262, 196.15591226, 194.93080653, 193.69985802,\n",
       "       193.28480471, 192.74945163, 191.56668681])"
      ]
     },
     "execution_count": 40,
     "metadata": {},
     "output_type": "execute_result"
    }
   ],
   "source": [
    "test_predictions = model(X_test.to(device)).detach().cpu().numpy().flatten()\n",
    "\n",
    "dummies = np.zeros((X_test.shape[0], sequence_length+1))\n",
    "dummies[:, 0] = test_predictions\n",
    "dummies = scaler.inverse_transform(dummies)\n",
    "\n",
    "test_predictions = dc(dummies[:, 0])\n",
    "test_predictions"
   ]
  },
  {
   "cell_type": "code",
   "execution_count": null,
   "metadata": {},
   "outputs": [
    {
     "name": "stderr",
     "output_type": "stream",
     "text": [
      "C:\\Users\\marci\\AppData\\Local\\Temp\\ipykernel_5312\\2906197738.py:2: DeprecationWarning: __array__ implementation doesn't accept a copy keyword, so passing copy=False failed. __array__ must implement 'dtype' and 'copy' keyword arguments.\n",
      "  dummies[:, 0] = y_test.flatten()\n"
     ]
    },
    {
     "data": {
      "text/plain": [
       "array([130.80000294, 134.30000366, 134.679994  , 133.55999747,\n",
       "       132.83000243, 135.3600002 , 129.96000634, 129.99999995,\n",
       "       128.80000344, 129.13000495, 128.14999404, 128.25000039,\n",
       "       132.21000737, 133.67999265, 131.69000272, 128.21000678,\n",
       "       128.91000341, 139.57000712, 142.22000168, 139.94000225,\n",
       "       137.85000755, 138.5599994 , 138.41000422, 140.57000687,\n",
       "       137.66999803, 135.07000825, 133.97999736, 133.22000074,\n",
       "       134.679994  , 134.24999889, 135.52000335, 131.8399963 ,\n",
       "       133.25999435, 133.13999917, 134.9100051 , 135.07000825,\n",
       "       138.00999476, 138.11999632, 137.27000451, 135.3600002 ,\n",
       "       137.85000755, 138.2299947 , 143.10000464, 141.22999714,\n",
       "       144.8500058 , 144.72000105, 140.39000054, 139.97999586,\n",
       "       137.63000442, 135.28999225, 129.33000171, 129.11999539,\n",
       "       131.27000442, 125.98000255, 125.98000255, 125.98000255,\n",
       "       127.12000227, 129.46000647, 124.72000127, 127.0000007 ,\n",
       "       125.95999937, 127.95999887, 128.2599956 , 129.4799953 ,\n",
       "       131.83000268, 132.33000256, 129.78999363, 132.5500025 ,\n",
       "       131.47000118, 128.1300052 , 128.39999397, 125.16999797,\n",
       "       126.55999762, 128.55999872, 121.38999892, 119.57000017,\n",
       "       127.73999733, 132.71000725, 133.08999599, 136.99999979,\n",
       "       138.0700075 , 138.60000577, 139.74000549, 142.71000634,\n",
       "       142.08000171, 140.60000527, 143.55999815, 142.5899968 ,\n",
       "       145.80000397, 143.19999824, 142.83000312, 145.17999456,\n",
       "       146.13000548, 143.89999488, 146.71000852, 146.74000373,\n",
       "       147.72999551, 147.02999888, 146.32000703, 146.08999592,\n",
       "       147.02999888, 144.83999464, 146.8800037 , 144.52000429,\n",
       "       146.8800037 , 147.41999718, 145.88999916, 147.47999717,\n",
       "       148.83999683, 147.41999718, 149.97000133, 154.07000668,\n",
       "       153.78999399, 152.11999601, 153.83999558, 153.41999887,\n",
       "       153.41000366, 153.3399957 , 153.38000526, 151.94000243,\n",
       "       149.92999177, 148.47000171, 144.57000587, 145.24000411,\n",
       "       149.10000633, 151.3699946 , 153.7299972 , 155.17999205,\n",
       "       154.61999538, 153.16000531, 151.71000727, 153.49999885,\n",
       "       155.3399952 , 154.77999853, 156.0200046 , 156.86999641,\n",
       "       157.74999938, 159.11999425, 161.25999372, 159.00000066,\n",
       "       155.19999843, 159.28000059, 171.80999586, 170.30999943,\n",
       "       169.14999334, 170.52999618, 169.83999476, 174.4499952 ,\n",
       "       172.33999732, 168.64000144, 170.97999766, 169.80000115,\n",
       "       169.50999325, 167.08000183, 168.58999348, 174.58000314,\n",
       "       174.99000463, 174.72999513, 173.53999064, 173.16000668,\n",
       "       176.75999303, 178.22000223, 177.58000239, 174.11999369,\n",
       "       173.50999225, 176.82000896, 175.35000454, 171.96000699,\n",
       "       175.38999815, 176.55999945, 178.74999731, 174.4199968 ,\n",
       "       174.4799936 , 175.89999643, 178.14999108, 178.14999108,\n",
       "       178.86999728, 179.71000983, 178.30000221, 179.83000342,\n",
       "       180.38000807, 180.96999994, 180.69000001, 182.41000596,\n",
       "       179.99999859, 185.07000849, 185.19000208, 185.66999558,\n",
       "       185.94999551, 189.0500043 , 186.13000503, 183.6199945 ,\n",
       "       183.32000414, 181.27999827, 179.22000198, 174.63000472,\n",
       "       177.22999769, 179.53999552, 176.58999785, 173.66999858,\n",
       "       179.6199955 , 180.96000473, 174.99999985, 178.99999884,\n",
       "       184.72000379, 186.21000501, 188.6999996 , 188.7599964 ,\n",
       "       188.00000297, 189.4999994 , 187.47999672, 186.57000492,\n",
       "       187.07000799, 185.99000188, 183.63000247, 184.69999423,\n",
       "       183.53999452, 183.14999621, 183.13000578, 181.04999992,\n",
       "       180.75000319, 182.14999646, 182.02000128, 179.32000514,\n",
       "       176.43999948, 178.33999582, 179.33999557, 181.27999827,\n",
       "       184.99999734, 184.30000071, 187.06000001, 187.22999519,\n",
       "       186.88999846, 183.83000242, 183.66000087, 184.06000077,\n",
       "       182.80999948, 186.10000663, 189.0800027 , 185.57000517,\n",
       "       186.33999382, 193.61000316, 197.85000847, 193.24999687,\n",
       "       197.19999429, 199.99999996, 197.58999897, 199.99999996,\n",
       "       199.28999536, 199.33999694, 199.78999204, 195.0500028 ,\n",
       "       194.49000294, 192.72000179, 193.0200049 , 187.92999182,\n",
       "       183.75000244, 183.13000578, 182.55000274, 186.41000496,\n",
       "       180.83000317, 179.8500066 , 182.50000116, 183.19999779,\n",
       "       181.71000933, 186.97999366, 184.07000874, 167.89999206,\n",
       "       161.02000654, 161.92999196, 162.7700045 , 165.80000215,\n",
       "       166.94000505, 166.8000019 , 170.22999307, 170.10000426,\n",
       "       177.5899976 , 177.05999614, 178.22000223, 178.88000525,\n",
       "       180.11000335, 176.13000754, 177.03999296, 175.50000291,\n",
       "       173.11999394, 170.8000009 , 172.11999419, 178.50000216,\n",
       "       176.25000113, 173.33000186, 177.89000072, 171.38999915,\n",
       "       175.39999337, 179.55000349, 184.52000384, 186.99999684,\n",
       "       186.49000494, 184.88999896, 186.88000325, 186.42999539,\n",
       "       189.86999453, 191.60000845, 193.88000787, 193.96000785,\n",
       "       192.52999705, 191.16000218, 187.96999819, 186.33000498,\n",
       "       185.13000528, 184.7599974 , 181.96000448, 186.50999537,\n",
       "       180.80000477, 182.71999791, 185.16999889, 186.64999214,\n",
       "       188.82000595, 187.53999352, 187.69000464, 186.88999846,\n",
       "       187.5299983 , 188.9900075 , 189.07000748, 189.69999935,\n",
       "       184.71000858, 186.38000656, 187.83000142, 188.39000128,\n",
       "       190.83000066, 192.729997  , 186.39999699, 197.9299957 ,\n",
       "       195.77999783, 199.4999969 , 207.0899934 , 210.05000542,\n",
       "       208.17999473, 206.83999825, 208.91000252, 214.100006  ,\n",
       "       211.47999709, 202.6100009 , 201.69999635, 204.6100004 ,\n",
       "       202.88000562, 198.38000356, 197.11999431])"
      ]
     },
     "execution_count": 41,
     "metadata": {},
     "output_type": "execute_result"
    }
   ],
   "source": [
    "dummies = np.zeros((X_test.shape[0], sequence_length+1))\n",
    "dummies[:, 0] = y_test.flatten()\n",
    "dummies = scaler.inverse_transform(dummies)\n",
    "\n",
    "new_y_test = dc(dummies[:, 0])\n",
    "new_y_test"
   ]
  },
  {
   "cell_type": "code",
   "execution_count": null,
   "metadata": {},
   "outputs": [
    {
     "data": {
      "image/png": "[encoded data removed]",
      "text/plain": [
       "<Figure size 640x480 with 1 Axes>"
      ]
     },
     "metadata": {},
     "output_type": "display_data"
    }
   ],
   "source": [
    "plt.plot(new_y_test, label='Actual Close')\n",
    "plt.plot(test_predictions, label='Predicted Close')\n",
    "plt.xlabel('Day')\n",
    "plt.ylabel('Close')\n",
    "plt.legend()\n",
    "plt.show()"
   ]
  },
  {
   "cell_type": "code",
   "execution_count": null,
   "metadata": {},
   "outputs": [],
   "source": []
  }
 ],
 "metadata": {
  "kernelspec": {
   "display_name": ".venv",
   "language": "python",
   "name": "python3"
  },
  "language_info": {
   "codemirror_mode": {
    "name": "ipython",
    "version": 3
   },
   "file_extension": ".py",
   "mimetype": "text/x-python",
   "name": "python",
   "nbconvert_exporter": "python",
   "pygments_lexer": "ipython3",
   "version": "3.11.9"
  }
 },
 "nbformat": 4,
 "nbformat_minor": 2
}
